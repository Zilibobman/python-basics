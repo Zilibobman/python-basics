{
 "cells": [
  {
   "cell_type": "markdown",
   "metadata": {},
   "source": [
    "**Задание 1**. Даны 2 строки: *long_phrase* и *short_phrase*. \n",
    "Напишите код, который проверяет действительно ли длинная фраза *long_phrase* длиннее короткой *short_phrase*. И выводит *True* или *False* в зависимости от результата сравнения."
   ]
  },
  {
   "cell_type": "code",
   "execution_count": 1,
   "metadata": {},
   "outputs": [],
   "source": [
    "long_phrase = 'Насколько проще было бы писать программы, если бы не заказчики'\n",
    "short_phrase = '640Кб должно хватить для любых задач. Билл Гейтс (по легенде)'"
   ]
  },
  {
   "cell_type": "code",
   "execution_count": 2,
   "metadata": {},
   "outputs": [
    {
     "name": "stdout",
     "output_type": "stream",
     "text": [
      "True\n"
     ]
    }
   ],
   "source": [
    "print(len(long_phrase) > len(short_phrase))"
   ]
  },
  {
   "cell_type": "markdown",
   "metadata": {},
   "source": [
    "**Задание 2**. Дано значение объема файла в байтах. Напишите перевод этого значения в мегабайты в формате: \"*Объем файла равен 213.68Mb*\""
   ]
  },
  {
   "cell_type": "code",
   "execution_count": 10,
   "metadata": {},
   "outputs": [
    {
     "name": "stdout",
     "output_type": "stream",
     "text": [
      "Введите размер файла в байтах\n",
      "154235\n",
      "размер файла  150.62 Mb\n"
     ]
    }
   ],
   "source": [
    "file = int(input('Введите размер файла в байтах\\n'))\n",
    "print('Объем файла равен ', int((file/1024)*100)/100, 'Mb')"
   ]
  },
  {
   "cell_type": "markdown",
   "metadata": {},
   "source": [
    "**Задание 3**. Разработать приложение для определения знака зодиака по дате рождения. Пример:\n",
    "\n",
    "Введите месяц: март\n",
    "\n",
    "Введите число: 6\n",
    "\n",
    "Вывод:\n",
    "Рыбы"
   ]
  },
  {
   "cell_type": "code",
   "execution_count": 13,
   "metadata": {},
   "outputs": [
    {
     "name": "stdout",
     "output_type": "stream",
     "text": [
      "Введите месяц с маленькой буквы: март\n",
      "Введите число: 44\n",
      "Некорректное число\n"
     ]
    }
   ],
   "source": [
    "mounth = input('Введите месяц с маленькой буквы: ')\n",
    "day = int(input('Введите число: '))\n",
    "\n",
    "if mounth == 'март':\n",
    "    if 0 < day < 21:\n",
    "        print('Рыбы')\n",
    "    elif 21 <= day <= 31:\n",
    "        print('Овен')\n",
    "    else:\n",
    "        print('Некорректное число')\n",
    "#######################################\n",
    "elif mounth == 'апрель':\n",
    "    if 0 < day < 21:\n",
    "        print('Овен')\n",
    "    elif 21 <= day <= 30:\n",
    "        print('Телец')\n",
    "    else:\n",
    "        print('Некорректное число')\n",
    "#######################################\n",
    "elif mounth == 'май':\n",
    "    if 0 < day < 22:\n",
    "        print('Телец')\n",
    "    elif 22 <= day <= 31:\n",
    "        print('Близнецы')\n",
    "    else:\n",
    "        print('Некорректное число')\n",
    "#######################################\n",
    "elif mounth == 'июнь':\n",
    "    if 0 < day < 22:\n",
    "        print('Близнецы')\n",
    "    elif 22 <= day <= 30:\n",
    "        print('Рак')\n",
    "    else:\n",
    "        print('Некорректное число')\n",
    "#######################################\n",
    "elif mounth == 'июль':\n",
    "    if 0 < day < 24:\n",
    "        print('Рак')\n",
    "    elif 24 <= day <= 31:\n",
    "        print('Лев')\n",
    "    else:\n",
    "        print('Некорректное число')\n",
    "#######################################\n",
    "elif mounth == 'Август':\n",
    "    if 0 < day < 24:\n",
    "        print('Лев')\n",
    "    elif 24 <= day <= 31:\n",
    "        print('Дева')\n",
    "    else:\n",
    "        print('Некорректное число')\n",
    "#######################################\n",
    "elif mounth == 'Сентябрь':\n",
    "    if 0 < day < 24:\n",
    "        print('Дева')\n",
    "    elif 24 <= day <= 30:\n",
    "        print('Весы')\n",
    "    else:\n",
    "        print('Некорректное число')\n",
    "#######################################\n",
    "elif mounth == 'Октябрь':\n",
    "    if 0 < day < 24:\n",
    "        print('Весы')\n",
    "    elif 24 <= day <= 31:\n",
    "        print('Скорпион')\n",
    "    else:\n",
    "        print('Некорректное число')\n",
    "#######################################\n",
    "elif mounth == 'Ноябрь':\n",
    "    if 0 < day < 23:\n",
    "        print('Скорпион')\n",
    "    elif 23 <= day <= 30:\n",
    "        print('Стрелец')\n",
    "    else:\n",
    "        print('Некорректное число')\n",
    "#######################################\n",
    "elif mounth == 'Декабрь':\n",
    "    if 0 < day < 22:\n",
    "        print('Стрелец')\n",
    "    elif 24 <= day <= 31:\n",
    "        print('Козерог')\n",
    "    else:\n",
    "        print('Некорректное число')\n",
    "#######################################\n",
    "elif mounth == 'Январь':\n",
    "    if 0 < day < 21:\n",
    "        print('Козерог')\n",
    "    elif 21 <= day <= 31:\n",
    "        print('Водолей')\n",
    "    else:\n",
    "        print('Некорректное число')\n",
    "#######################################\n",
    "elif mounth == 'Февраль':\n",
    "    if 0 < day < 20:\n",
    "        print('Водолей')\n",
    "    elif 20 <= day <= 29:\n",
    "        print('Рыбы')\n",
    "    else:\n",
    "        print('Некорректное число')\n",
    "#######################################\n",
    "else:\n",
    "    print('Некорректный месяц')"
   ]
  },
  {
   "cell_type": "markdown",
   "metadata": {},
   "source": [
    "**Задание 4**. Нужно разработать приложение для финансового планирования.\n",
    "Приложение учитывает сколько уходит на ипотеку, \"на жизнь\" и сколько нужно отложить на пенсию.\n",
    "Пользователь вводит:\n",
    "- заработанную плату в месяц.\n",
    "- сколько процентов от ЗП уходит на ипотеку.\n",
    "- сколько процентов от ЗП уходит \"на жизнь\".\n",
    "- сколько раз приходит премия в год.\n",
    "\n",
    "Остальная часть заработанной платы откладывается на пенсию.\n",
    "\n",
    "Также пользователю приходит премия в размере зарплаты, от которой половина уходит на отпуск, а вторая половина откладывается.\n",
    "\n",
    "Программа должна учитывать сколько премий было в год.\n",
    "\n",
    "Нужно вывести сколько денег тратит пользователь на ипотеку и сколько он накопит за год.\n",
    "\n",
    "Пример:\n",
    "\n",
    "Введите заработанную плату в месяц: 100000\n",
    "\n",
    "Введите сколько процентов уходит на ипотеку: 30\n",
    "\n",
    "Введите сколько процентов уходит на жизнь: 50\n",
    "\n",
    "Введите количество премий за год: 2\n",
    "\n",
    "Вывод:\n",
    "На ипотеку было потрачено: 360000 рублей\n",
    "Было накоплено: 340000 рублей"
   ]
  },
  {
   "cell_type": "code",
   "execution_count": 1,
   "metadata": {},
   "outputs": [
    {
     "name": "stdout",
     "output_type": "stream",
     "text": [
      "Введите заработанную плату в месяц:100000\n",
      "Введите сколько процентов уходит на ипотеку:30\n",
      "Введите сколько процентов уходит на жизнь:50\n",
      "Введите количество премий за год:2\n",
      "\n",
      "На ипотеку было потрачено: 360000 рублей\n",
      "Было накоплено: 339999 рублей\n"
     ]
    }
   ],
   "source": [
    "zp = int(input('Введите заработанную плату в месяц:'))\n",
    "\n",
    "ip = int(input('Введите сколько процентов уходит на ипотеку:'))\n",
    "if ip > 100:\n",
    "    print ('Мы в дерьме')\n",
    "    \n",
    "life = int(input('Введите сколько процентов уходит на жизнь:'))\n",
    "if life + ip > 100:\n",
    "    print('Время затянуть потуже пояса')\n",
    "    \n",
    "pr = int(input('Введите количество премий за год:'))\n",
    "year_money = 12 * zp\n",
    "ot_premii = pr/2 * zp\n",
    "ip_year = year_money * ip/100\n",
    "capital = year_money * (1 - (life + ip)/100) + ot_premii\n",
    "\n",
    "print('\\nНа ипотеку было потрачено:', int(ip_year), 'рублей')\n",
    "print('Было накоплено:', int(capital), 'рублей')"
   ]
  },
  {
   "cell_type": "markdown",
   "metadata": {},
   "source": [
    "Дополнительное задание\n",
    "Задание 1\n",
    "https://ru.wikipedia.org/wiki/Fizz_buzz\n",
    "Начинающий произносит число “1”, и каждый следующий игрок прибавляет к предыдущему значению единицу. Когда число делится на три оно заменяется на fizz, если число делится на пять, то произносится buzz. Числа, делящиеся на три и пять одновременно заменяются на fizz buzz. Сделавший ошибку игрок исключается из игры.\n",
    "Типичная партия в fizz buzz выглядит так:\n",
    "1, 2, Fizz, 4, Buzz, Fizz, 7, 8, Fizz, Buzz, 11, Fizz, 13, 14, Fizz Buzz, 16, 17, Fizz, 19, Buzz, Fizz, 22, 23, Fizz, Buzz, 26, Fizz, 28, 29, Fizz Buzz, 31, 32, Fizz, 34, Buzz, Fizz, …\n",
    "Напишите код, выводящий на экран первые n элементов этой игры (естественно, корректные)."
   ]
  },
  {
   "cell_type": "code",
   "execution_count": 13,
   "metadata": {},
   "outputs": [
    {
     "name": "stdout",
     "output_type": "stream",
     "text": [
      "Введите количество шагов:33\n",
      "1 2 fizz, 4 buzz, fizz, 7 8 fizz, buzz, 11 fizz, 13 14 fizz buzz, 16 17 fizz, 19 buzz, fizz, 22 23 fizz, buzz, 26 fizz, 28 29 fizz buzz, 31 32 fizz, "
     ]
    }
   ],
   "source": [
    "n = int(input('Введите количество шагов:'))\n",
    "for number in range(1, n + 1):\n",
    "    if number % 3 == 0:\n",
    "        if number % 5 == 0:\n",
    "            print('fizz buzz, ', end = '')\n",
    "        else:\n",
    "            print('fizz, ', end = '')\n",
    "    elif number % 5 == 0:\n",
    "        print('buzz, ', end = '')\n",
    "    else:\n",
    "        print(number, '',end = '')"
   ]
  },
  {
   "cell_type": "markdown",
   "metadata": {},
   "source": [
    "Задание 2\n",
    "Датчик принимает сигнал, состоящий из 0 и 1. Известно, что сигнал имеет периодичность, не превышающей натурального числа n. Напишите код, который вычисляет периодичность сигнала. Считайте, что 3 < n < 1000, а общая длина сигнала значительно превышает n.\n",
    "Пример сигнала с периодичностью 4 (повторяющийся элемент 1011):\n",
    "1011101110111011101110111011101110111011\n",
    "Еще одна интерпретация задачи, но без кода: https://tproger.ru/problems/endless-train/"
   ]
  },
  {
   "cell_type": "code",
   "execution_count": 9,
   "metadata": {},
   "outputs": [
    {
     "name": "stdout",
     "output_type": "stream",
     "text": [
      "Введите сигнал:12345\n",
      "5\n"
     ]
    }
   ],
   "source": [
    "signal_str = input ('Введите сигнал:')\n",
    "signal_int = []\n",
    "for i in range(len(signal_str)):\n",
    "    if -1 < int(signal_str[i]) < 2:\n",
    "        signal_int.insert(i, int(signal_str[i]))\n",
    "    else:\n",
    "        print('Некорректный сигнал')\n",
    "        break\n",
    "\n",
    "for period in range(3, int(len(signal_str)/2)):\n",
    "    str_to_compare = []\n",
    "    for i in range(period):\n",
    "        str_to_compare.insert(i, signal_str[i]))       \n",
    "            \n",
    "    i = 0\n",
    "    for j in range(period):\n",
    "        if str_to_compare[j] != signal_str[i]:#если строки не совпадают выходим из сравнения\n",
    "            break   \n",
    "        else:\n",
    "            i += 1\n",
    "    else:                       #если цикл завершился сам (строки совпадают)\n",
    "        if (i > len(signal_str) - period):#если прошлись по всему сигналу, то это и есть повторяющаяся последовательность\n",
    "            print('Повторяющийся элемент:', str_to_cpmpare)\n",
    "            break\n",
    "        else:#иначе смотрим следующий период\n",
    "            if i % period != 0:#иначе смотрим следующий период\n",
    "                continue\n",
    "                    \n",
    "                    \n",
    "                    \n",
    "while e < (len(signal_int) - period):\n",
    "    for i in range(0, len(signal_int) - period, period):\n",
    "        for j in range(period):\n",
    "            if str_to_compare[j] != signal_int[i]:\n",
    "                break"
   ]
  },
  {
   "cell_type": "code",
   "execution_count": null,
   "metadata": {},
   "outputs": [],
   "source": []
  }
 ],
 "metadata": {
  "kernelspec": {
   "display_name": "Python 3",
   "language": "python",
   "name": "python3"
  },
  "language_info": {
   "codemirror_mode": {
    "name": "ipython",
    "version": 3
   },
   "file_extension": ".py",
   "mimetype": "text/x-python",
   "name": "python",
   "nbconvert_exporter": "python",
   "pygments_lexer": "ipython3",
   "version": "3.7.4"
  }
 },
 "nbformat": 4,
 "nbformat_minor": 2
}
